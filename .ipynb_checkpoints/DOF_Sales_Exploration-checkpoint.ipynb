{
 "cells": [
  {
   "cell_type": "code",
   "execution_count": 1,
   "metadata": {},
   "outputs": [
    {
     "name": "stdout",
     "output_type": "stream",
     "text": [
      "Populating the interactive namespace from numpy and matplotlib\n"
     ]
    },
    {
     "name": "stderr",
     "output_type": "stream",
     "text": [
      "C:\\Users\\caoba\\Anaconda3\\lib\\site-packages\\IPython\\core\\magics\\pylab.py:161: UserWarning: pylab import has clobbered these variables: ['plt']\n",
      "`%matplotlib` prevents importing * from pylab and numpy\n",
      "  \"\\n`%matplotlib` prevents importing * from pylab and numpy\"\n"
     ]
    }
   ],
   "source": [
    "import pandas as pd\n",
    "import numpy as np\n",
    "import os\n",
    "import sys\n",
    "\n",
    "import matplotlib as plt\n",
    "\n",
    "%pylab inline"
   ]
  },
  {
   "cell_type": "markdown",
   "metadata": {},
   "source": [
    "### For reproducibility, please make sure PUIDATA environmental variable is properly set up"
   ]
  },
  {
   "cell_type": "code",
   "execution_count": 2,
   "metadata": {},
   "outputs": [
    {
     "name": "stdout",
     "output_type": "stream",
     "text": [
      "C:/Users/caoba/Google_Drive/PUI2017/PUIdata\n"
     ]
    }
   ],
   "source": [
    "PUIdata = os.getenv('PUIDATA')\n",
    "print(PUIdata)"
   ]
  },
  {
   "cell_type": "code",
   "execution_count": 10,
   "metadata": {},
   "outputs": [],
   "source": [
    "path = PUIdata + '/ADSProject'\n",
    "\n",
    "if (not os.path.isdir(path)):\n",
    "    if (os.system('mkdir ' + path) == 0):\n",
    "        print(\"OK, directory in place\")\n",
    "else:\n",
    "    print(\"OK, directory in place\")"
   ]
  },
  {
   "cell_type": "markdown",
   "metadata": {},
   "source": [
    "### Downloading Manhattan 2015 Sales\n",
    "Access all other files here: http://www1.nyc.gov/site/finance/taxes/property-annualized-sales-update.page\n",
    "\n",
    "http://www1.nyc.gov/assets/finance/downloads/pdf/rolling_sales/annualized-sales/2015/2015_manhattan.xls"
   ]
  },
  {
   "cell_type": "code",
   "execution_count": 7,
   "metadata": {},
   "outputs": [
    {
     "name": "stdout",
     "output_type": "stream",
     "text": [
      "File not found\n",
      "Download file for reading...\n"
     ]
    }
   ],
   "source": [
    "if (not os.path.isfile(path + '/2015_manhattan.xls')):\n",
    "    print(\"File not found\")\n",
    "    print(\"Download file for reading...\")\n",
    "    os.system('curl -O http://www1.nyc.gov/assets/finance/downloads/pdf/rolling_sales/annualized-sales/2015/2015_manhattan.xls')\n",
    "    os.system('mv 2015_manhattan.xls ' + path)\n",
    "\n",
    "if os.path.isfile(path + '/2015_manhattan.xls'):\n",
    "    print(\"File in place, read file\")\n",
    "    mn2015 = pd.read_excel(path + '/2015_manhattan.xls', skiprows=4)"
   ]
  },
  {
   "cell_type": "code",
   "execution_count": 8,
   "metadata": {
    "scrolled": true
   },
   "outputs": [
    {
     "ename": "NameError",
     "evalue": "name 'mn2015' is not defined",
     "output_type": "error",
     "traceback": [
      "\u001b[1;31m---------------------------------------------------------------------------\u001b[0m",
      "\u001b[1;31mNameError\u001b[0m                                 Traceback (most recent call last)",
      "\u001b[1;32m<ipython-input-8-07153925ff6e>\u001b[0m in \u001b[0;36m<module>\u001b[1;34m()\u001b[0m\n\u001b[1;32m----> 1\u001b[1;33m \u001b[0mmn2015\u001b[0m\u001b[1;33m.\u001b[0m\u001b[0mhead\u001b[0m\u001b[1;33m(\u001b[0m\u001b[1;33m)\u001b[0m\u001b[1;33m\u001b[0m\u001b[0m\n\u001b[0m",
      "\u001b[1;31mNameError\u001b[0m: name 'mn2015' is not defined"
     ]
    }
   ],
   "source": [
    "mn2015.head()"
   ]
  },
  {
   "cell_type": "code",
   "execution_count": 12,
   "metadata": {},
   "outputs": [
    {
     "name": "stdout",
     "output_type": "stream",
     "text": [
      "File not found\n",
      "Download file for reading...\n",
      "File in place, read file\n"
     ]
    }
   ],
   "source": [
    "if (not os.path.isfile(path + '/2015_bronx.xls')):\n",
    "    print(\"File not found\")\n",
    "    print(\"Download file for reading...\")\n",
    "    os.system('curl -O http://www1.nyc.gov/assets/finance/downloads/pdf/rolling_sales/annualized-sales/2015/2015_bronx.xls')\n",
    "    os.system('mv 2015_bronx.xls ' + path)\n",
    "\n",
    "if os.path.isfile(path + '/2015_bronx.xls'):\n",
    "    print(\"File in place, read file\")\n",
    "    bx2015 = pd.read_excel(path + '/2015_bronx.xls', skiprows=4)"
   ]
  },
  {
   "cell_type": "code",
   "execution_count": 13,
   "metadata": {},
   "outputs": [
    {
     "data": {
      "text/html": [
       "<div>\n",
       "<table border=\"1\" class=\"dataframe\">\n",
       "  <thead>\n",
       "    <tr style=\"text-align: right;\">\n",
       "      <th></th>\n",
       "      <th>BOROUGH</th>\n",
       "      <th>NEIGHBORHOOD</th>\n",
       "      <th>BUILDING CLASS CATEGORY</th>\n",
       "      <th>TAX CLASS AT PRESENT</th>\n",
       "      <th>BLOCK</th>\n",
       "      <th>LOT</th>\n",
       "      <th>EASE-MENT</th>\n",
       "      <th>BUILDING CLASS AT PRESENT</th>\n",
       "      <th>ADDRESS</th>\n",
       "      <th>APARTMENT NUMBER</th>\n",
       "      <th>...</th>\n",
       "      <th>RESIDENTIAL UNITS</th>\n",
       "      <th>COMMERCIAL UNITS</th>\n",
       "      <th>TOTAL UNITS</th>\n",
       "      <th>LAND SQUARE FEET</th>\n",
       "      <th>GROSS SQUARE FEET</th>\n",
       "      <th>YEAR BUILT</th>\n",
       "      <th>TAX CLASS AT TIME OF SALE</th>\n",
       "      <th>BUILDING CLASS AT TIME OF SALE</th>\n",
       "      <th>SALE PRICE</th>\n",
       "      <th>SALE DATE</th>\n",
       "    </tr>\n",
       "  </thead>\n",
       "  <tbody>\n",
       "    <tr>\n",
       "      <th>0</th>\n",
       "      <td>2</td>\n",
       "      <td>BATHGATE</td>\n",
       "      <td>01  ONE FAMILY DWELLINGS</td>\n",
       "      <td>1</td>\n",
       "      <td>2905</td>\n",
       "      <td>28</td>\n",
       "      <td></td>\n",
       "      <td>A9</td>\n",
       "      <td>1665 WASHINGTON AVENUE</td>\n",
       "      <td></td>\n",
       "      <td>...</td>\n",
       "      <td>1</td>\n",
       "      <td>0</td>\n",
       "      <td>1</td>\n",
       "      <td>4750</td>\n",
       "      <td>2619</td>\n",
       "      <td>1899</td>\n",
       "      <td>1</td>\n",
       "      <td>A9</td>\n",
       "      <td>0</td>\n",
       "      <td>2015-08-07</td>\n",
       "    </tr>\n",
       "    <tr>\n",
       "      <th>1</th>\n",
       "      <td>2</td>\n",
       "      <td>BATHGATE</td>\n",
       "      <td>01  ONE FAMILY DWELLINGS</td>\n",
       "      <td>1</td>\n",
       "      <td>2905</td>\n",
       "      <td>28</td>\n",
       "      <td></td>\n",
       "      <td>A9</td>\n",
       "      <td>1665 WASHINGTON AVENUE</td>\n",
       "      <td></td>\n",
       "      <td>...</td>\n",
       "      <td>1</td>\n",
       "      <td>0</td>\n",
       "      <td>1</td>\n",
       "      <td>4750</td>\n",
       "      <td>2619</td>\n",
       "      <td>1899</td>\n",
       "      <td>1</td>\n",
       "      <td>A9</td>\n",
       "      <td>0</td>\n",
       "      <td>2015-08-07</td>\n",
       "    </tr>\n",
       "    <tr>\n",
       "      <th>2</th>\n",
       "      <td>2</td>\n",
       "      <td>BATHGATE</td>\n",
       "      <td>01  ONE FAMILY DWELLINGS</td>\n",
       "      <td>1</td>\n",
       "      <td>3035</td>\n",
       "      <td>2</td>\n",
       "      <td></td>\n",
       "      <td>S1</td>\n",
       "      <td>441 EAST 178 STREET</td>\n",
       "      <td></td>\n",
       "      <td>...</td>\n",
       "      <td>1</td>\n",
       "      <td>1</td>\n",
       "      <td>2</td>\n",
       "      <td>1287</td>\n",
       "      <td>2528</td>\n",
       "      <td>1899</td>\n",
       "      <td>1</td>\n",
       "      <td>S1</td>\n",
       "      <td>0</td>\n",
       "      <td>2015-12-18</td>\n",
       "    </tr>\n",
       "    <tr>\n",
       "      <th>3</th>\n",
       "      <td>2</td>\n",
       "      <td>BATHGATE</td>\n",
       "      <td>01  ONE FAMILY DWELLINGS</td>\n",
       "      <td>1</td>\n",
       "      <td>3039</td>\n",
       "      <td>28</td>\n",
       "      <td></td>\n",
       "      <td>A1</td>\n",
       "      <td>2329 WASHINGTON AVE</td>\n",
       "      <td></td>\n",
       "      <td>...</td>\n",
       "      <td>1</td>\n",
       "      <td>0</td>\n",
       "      <td>1</td>\n",
       "      <td>1103</td>\n",
       "      <td>1290</td>\n",
       "      <td>1910</td>\n",
       "      <td>1</td>\n",
       "      <td>A1</td>\n",
       "      <td>300000</td>\n",
       "      <td>2015-02-20</td>\n",
       "    </tr>\n",
       "    <tr>\n",
       "      <th>4</th>\n",
       "      <td>2</td>\n",
       "      <td>BATHGATE</td>\n",
       "      <td>01  ONE FAMILY DWELLINGS</td>\n",
       "      <td>1</td>\n",
       "      <td>3039</td>\n",
       "      <td>36</td>\n",
       "      <td></td>\n",
       "      <td>S1</td>\n",
       "      <td>455 EAST 184 STREET</td>\n",
       "      <td></td>\n",
       "      <td>...</td>\n",
       "      <td>1</td>\n",
       "      <td>1</td>\n",
       "      <td>2</td>\n",
       "      <td>2500</td>\n",
       "      <td>2452</td>\n",
       "      <td>1910</td>\n",
       "      <td>1</td>\n",
       "      <td>S1</td>\n",
       "      <td>0</td>\n",
       "      <td>2015-08-18</td>\n",
       "    </tr>\n",
       "  </tbody>\n",
       "</table>\n",
       "<p>5 rows × 21 columns</p>\n",
       "</div>"
      ],
      "text/plain": [
       "   BOROUGH\\n             NEIGHBORHOOD\\n  \\\n",
       "0          2  BATHGATE                    \n",
       "1          2  BATHGATE                    \n",
       "2          2  BATHGATE                    \n",
       "3          2  BATHGATE                    \n",
       "4          2  BATHGATE                    \n",
       "\n",
       "                      BUILDING CLASS CATEGORY\\n TAX CLASS AT PRESENT\\n  \\\n",
       "0  01  ONE FAMILY DWELLINGS                                          1   \n",
       "1  01  ONE FAMILY DWELLINGS                                          1   \n",
       "2  01  ONE FAMILY DWELLINGS                                          1   \n",
       "3  01  ONE FAMILY DWELLINGS                                          1   \n",
       "4  01  ONE FAMILY DWELLINGS                                          1   \n",
       "\n",
       "   BLOCK\\n  LOT\\n EASE-MENT\\n BUILDING CLASS AT PRESENT\\n  \\\n",
       "0     2905     28                                      A9   \n",
       "1     2905     28                                      A9   \n",
       "2     3035      2                                      S1   \n",
       "3     3039     28                                      A1   \n",
       "4     3039     36                                      S1   \n",
       "\n",
       "                                   ADDRESS\\n APARTMENT NUMBER\\n     ...       \\\n",
       "0  1665 WASHINGTON AVENUE                                           ...        \n",
       "1  1665 WASHINGTON AVENUE                                           ...        \n",
       "2  441 EAST 178 STREET                                              ...        \n",
       "3  2329 WASHINGTON AVE                                              ...        \n",
       "4  455 EAST 184 STREET                                              ...        \n",
       "\n",
       "   RESIDENTIAL UNITS\\n  COMMERCIAL UNITS\\n  TOTAL UNITS\\n  LAND SQUARE FEET\\n  \\\n",
       "0                    1                   0              1                4750   \n",
       "1                    1                   0              1                4750   \n",
       "2                    1                   1              2                1287   \n",
       "3                    1                   0              1                1103   \n",
       "4                    1                   1              2                2500   \n",
       "\n",
       "   GROSS SQUARE FEET\\n  YEAR BUILT\\n  TAX CLASS AT TIME OF SALE\\n  \\\n",
       "0                 2619          1899                            1   \n",
       "1                 2619          1899                            1   \n",
       "2                 2528          1899                            1   \n",
       "3                 1290          1910                            1   \n",
       "4                 2452          1910                            1   \n",
       "\n",
       "   BUILDING CLASS AT TIME OF SALE\\n SALE PRICE\\n  SALE DATE\\n  \n",
       "0                                A9            0   2015-08-07  \n",
       "1                                A9            0   2015-08-07  \n",
       "2                                S1            0   2015-12-18  \n",
       "3                                A1       300000   2015-02-20  \n",
       "4                                S1            0   2015-08-18  \n",
       "\n",
       "[5 rows x 21 columns]"
      ]
     },
     "execution_count": 13,
     "metadata": {},
     "output_type": "execute_result"
    }
   ],
   "source": [
    "bx2015.head()"
   ]
  },
  {
   "cell_type": "code",
   "execution_count": 16,
   "metadata": {},
   "outputs": [
    {
     "name": "stdout",
     "output_type": "stream",
     "text": [
      "File not found\n",
      "Download file for reading...\n",
      "File in place, read file\n"
     ]
    }
   ],
   "source": [
    "if (not os.path.isfile(path + '/2015_brooklyn.xls')):\n",
    "    print(\"File not found\")\n",
    "    print(\"Download file for reading...\")\n",
    "    os.system('curl -O http://www1.nyc.gov/assets/finance/downloads/pdf/rolling_sales/annualized-sales/2015/2015_brooklyn.xls')\n",
    "    os.system('mv 2015_brooklyn.xls ' + path)\n",
    "\n",
    "if os.path.isfile(path + '/2015_brooklyn.xls'):\n",
    "    print(\"File in place, read file\")\n",
    "    bk2015 = pd.read_excel(path + '/2015_brooklyn.xls', skiprows=4)"
   ]
  },
  {
   "cell_type": "code",
   "execution_count": 17,
   "metadata": {},
   "outputs": [
    {
     "name": "stdout",
     "output_type": "stream",
     "text": [
      "File not found\n",
      "Download file for reading...\n",
      "File in place, read file\n"
     ]
    }
   ],
   "source": [
    "if (not os.path.isfile(path + '/2015_queens.xls')):\n",
    "    print(\"File not found\")\n",
    "    print(\"Download file for reading...\")\n",
    "    os.system('curl -O http://www1.nyc.gov/assets/finance/downloads/pdf/rolling_sales/annualized-sales/2015/2015_queens.xls')\n",
    "    os.system('mv 2015_queens.xls ' + path)\n",
    "\n",
    "if os.path.isfile(path + '/2015_queens.xls'):\n",
    "    print(\"File in place, read file\")\n",
    "    qn2015 = pd.read_excel(path + '/2015_queens.xls', skiprows=4)"
   ]
  },
  {
   "cell_type": "code",
   "execution_count": 18,
   "metadata": {},
   "outputs": [
    {
     "name": "stdout",
     "output_type": "stream",
     "text": [
      "File not found\n",
      "Download file for reading...\n",
      "File in place, read file\n"
     ]
    }
   ],
   "source": [
    "if (not os.path.isfile(path + '/2015_statenisland.xls')):\n",
    "    print(\"File not found\")\n",
    "    print(\"Download file for reading...\")\n",
    "    os.system('curl -O http://www1.nyc.gov/assets/finance/downloads/pdf/rolling_sales/annualized-sales/2015/2015_statenisland.xls')\n",
    "    os.system('mv 2015_statenisland.xls ' + path)\n",
    "\n",
    "if os.path.isfile(path + '/2015_statenisland.xls'):\n",
    "    print(\"File in place, read file\")\n",
    "    si2015 = pd.read_excel(path + '/2015_statenisland.xls', skiprows=4)"
   ]
  },
  {
   "cell_type": "code",
   "execution_count": 6,
   "metadata": {
    "collapsed": true
   },
   "outputs": [],
   "source": [
    "def fixColumns(df):\n",
    "    cols = df.columns.str.replace('\\n', '').str.replace(' ', '_')\n",
    "    df.columns = cols"
   ]
  },
  {
   "cell_type": "code",
   "execution_count": 7,
   "metadata": {
    "collapsed": true
   },
   "outputs": [],
   "source": [
    "def showDesc(df):\n",
    "    print('Number of sales with $0 price: {}'.format(df[df['SALE_PRICE'] == 0]['LOT'].count()))\n",
    "    print('Number of sales with negative price: {}'.format(df[df['SALE_PRICE'] < 0]['LOT'].count()))\n",
    "    print('Number of sales with 0 year built: {}'.format(df[df['YEAR_BUILT'] == 0]['LOT'].count()))"
   ]
  },
  {
   "cell_type": "code",
   "execution_count": 9,
   "metadata": {
    "collapsed": true
   },
   "outputs": [],
   "source": [
    "fixColumns(mn2015)"
   ]
  },
  {
   "cell_type": "code",
   "execution_count": 11,
   "metadata": {
    "scrolled": true
   },
   "outputs": [
    {
     "name": "stdout",
     "output_type": "stream",
     "text": [
      "Number of sales with $0 price: 5461\n",
      "Number of sales with negative price: 0\n",
      "Number of sales with 0 year built: 2636\n"
     ]
    }
   ],
   "source": [
    "showDesc(mn2015)"
   ]
  },
  {
   "cell_type": "code",
   "execution_count": 14,
   "metadata": {
    "collapsed": true
   },
   "outputs": [],
   "source": [
    "fixColumns(bx2015)"
   ]
  },
  {
   "cell_type": "code",
   "execution_count": 15,
   "metadata": {},
   "outputs": [
    {
     "name": "stdout",
     "output_type": "stream",
     "text": [
      "Number of sales with $0 price: 1880\n",
      "Number of sales with negative price: 0\n",
      "Number of sales with 0 year built: 758\n"
     ]
    }
   ],
   "source": [
    "showDesc(bx2015)"
   ]
  },
  {
   "cell_type": "code",
   "execution_count": 19,
   "metadata": {
    "collapsed": true
   },
   "outputs": [],
   "source": [
    "fixColumns(bk2015)"
   ]
  },
  {
   "cell_type": "code",
   "execution_count": 20,
   "metadata": {},
   "outputs": [
    {
     "name": "stdout",
     "output_type": "stream",
     "text": [
      "Number of sales with $0 price: 9190\n",
      "Number of sales with negative price: 0\n",
      "Number of sales with 0 year built: 2162\n"
     ]
    }
   ],
   "source": [
    "showDesc(bk2015)"
   ]
  },
  {
   "cell_type": "code",
   "execution_count": 21,
   "metadata": {
    "collapsed": true
   },
   "outputs": [],
   "source": [
    "fixColumns(qn2015)"
   ]
  },
  {
   "cell_type": "code",
   "execution_count": 22,
   "metadata": {},
   "outputs": [
    {
     "name": "stdout",
     "output_type": "stream",
     "text": [
      "Number of sales with $0 price: 8059\n",
      "Number of sales with negative price: 0\n",
      "Number of sales with 0 year built: 1249\n"
     ]
    }
   ],
   "source": [
    "showDesc(qn2015)"
   ]
  },
  {
   "cell_type": "code",
   "execution_count": 23,
   "metadata": {
    "collapsed": true
   },
   "outputs": [],
   "source": [
    "fixColumns(si2015)"
   ]
  },
  {
   "cell_type": "code",
   "execution_count": 24,
   "metadata": {},
   "outputs": [
    {
     "name": "stdout",
     "output_type": "stream",
     "text": [
      "Number of sales with $0 price: 2464\n",
      "Number of sales with negative price: 0\n",
      "Number of sales with 0 year built: 426\n"
     ]
    }
   ],
   "source": [
    "showDesc(si2015)"
   ]
  }
 ],
 "metadata": {
  "kernelspec": {
   "display_name": "Python 3",
   "language": "python",
   "name": "python3"
  },
  "language_info": {
   "codemirror_mode": {
    "name": "ipython",
    "version": 3
   },
   "file_extension": ".py",
   "mimetype": "text/x-python",
   "name": "python",
   "nbconvert_exporter": "python",
   "pygments_lexer": "ipython3",
   "version": "3.6.1"
  }
 },
 "nbformat": 4,
 "nbformat_minor": 2
}
