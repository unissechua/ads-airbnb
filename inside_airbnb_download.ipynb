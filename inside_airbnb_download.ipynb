{
 "cells": [
  {
   "cell_type": "code",
   "execution_count": 25,
   "metadata": {
    "collapsed": true
   },
   "outputs": [],
   "source": [
    "import pandas as pd\n",
    "from urllib.request import urlretrieve\n",
    "import os\n",
    "links = ['http://data.insideairbnb.com/united-states/ny/new-york-city/2017-10-02/visualisations/listings.csv',\n",
    "         'http://data.insideairbnb.com/united-states/ny/new-york-city/2017-09-02/visualisations/listings.csv',\n",
    "         'http://data.insideairbnb.com/united-states/ny/new-york-city/2017-08-02/visualisations/listings.csv',\n",
    "         'http://data.insideairbnb.com/united-states/ny/new-york-city/2017-07-02/visualisations/listings.csv',\n",
    "         'http://data.insideairbnb.com/united-states/ny/new-york-city/2017-06-02/visualisations/listings.csv',\n",
    "         'http://data.insideairbnb.com/united-states/ny/new-york-city/2017-05-02/visualisations/listings.csv',\n",
    "         'http://data.insideairbnb.com/united-states/ny/new-york-city/2017-04-02/visualisations/listings.csv',\n",
    "         'http://data.insideairbnb.com/united-states/ny/new-york-city/2017-03-02/visualisations/listings.csv',\n",
    "         'http://data.insideairbnb.com/united-states/ny/new-york-city/2017-02-02/visualisations/listings.csv',\n",
    "         'http://data.insideairbnb.com/united-states/ny/new-york-city/2017-01-01/visualisations/listings.csv',\n",
    "         'http://data.insideairbnb.com/united-states/ny/new-york-city/2016-12-03/visualisations/listings.csv',\n",
    "         'http://data.insideairbnb.com/united-states/ny/new-york-city/2016-11-02/visualisations/listings.csv',\n",
    "         'http://data.insideairbnb.com/united-states/ny/new-york-city/2016-10-01/visualisations/listings.csv',\n",
    "         'http://data.insideairbnb.com/united-states/ny/new-york-city/2016-09-02/visualisations/listings.csv',\n",
    "         'http://data.insideairbnb.com/united-states/ny/new-york-city/2016-08-02/visualisations/listings.csv',\n",
    "         'http://data.insideairbnb.com/united-states/ny/new-york-city/2016-07-02/visualisations/listings.csv',\n",
    "         'http://data.insideairbnb.com/united-states/ny/new-york-city/2016-06-02/visualisations/listings.csv',\n",
    "         'http://data.insideairbnb.com/united-states/ny/new-york-city/2016-05-02/visualisations/listings.csv',\n",
    "         'http://data.insideairbnb.com/united-states/ny/new-york-city/2016-04-03/visualisations/listings.csv',\n",
    "         'http://data.insideairbnb.com/united-states/ny/new-york-city/2016-02-02/visualisations/listings.csv',\n",
    "         'http://data.insideairbnb.com/united-states/ny/new-york-city/2016-01-01/visualisations/listings.csv',\n",
    "         'http://data.insideairbnb.com/united-states/ny/new-york-city/2015-12-02/visualisations/listings.csv',\n",
    "         'http://data.insideairbnb.com/united-states/ny/new-york-city/2015-11-01/visualisations/listings.csv',\n",
    "         'http://data.insideairbnb.com/united-states/ny/new-york-city/2015-10-01/visualisations/listings.csv',\n",
    "         'http://data.insideairbnb.com/united-states/ny/new-york-city/2015-09-01/visualisations/listings.csv',\n",
    "         'http://data.insideairbnb.com/united-states/ny/new-york-city/2015-08-01/visualisations/listings.csv',\n",
    "         'http://data.insideairbnb.com/united-states/ny/new-york-city/2015-06-01/visualisations/listings.csv',\n",
    "         'http://data.insideairbnb.com/united-states/ny/new-york-city/2015-05-01/visualisations/listings.csv',\n",
    "         'http://data.insideairbnb.com/united-states/ny/new-york-city/2015-04-01/visualisations/listings.csv',\n",
    "         'http://data.insideairbnb.com/united-states/ny/new-york-city/2015-03-01/visualisations/listings.csv',\n",
    "         'http://data.insideairbnb.com/united-states/ny/new-york-city/2015-01-01/visualisations/listings.csv']"
   ]
  },
  {
   "cell_type": "code",
   "execution_count": 8,
   "metadata": {},
   "outputs": [],
   "source": [
    "df = pd.DataFrame({'Links': links})"
   ]
  },
  {
   "cell_type": "code",
   "execution_count": 20,
   "metadata": {},
   "outputs": [
    {
     "data": {
      "text/plain": [
       "'09'"
      ]
     },
     "execution_count": 20,
     "metadata": {},
     "output_type": "execute_result"
    }
   ],
   "source": [
    "df.loc[1, 'Links'][65:67]"
   ]
  },
  {
   "cell_type": "code",
   "execution_count": 15,
   "metadata": {},
   "outputs": [],
   "source": [
    "df['date'] =  list(map(lambda x: x[60:70], df.Links))"
   ]
  },
  {
   "cell_type": "code",
   "execution_count": 17,
   "metadata": {
    "collapsed": true
   },
   "outputs": [],
   "source": [
    "df['year'] = list(map(lambda x: int(x[60:64]), df.Links))"
   ]
  },
  {
   "cell_type": "code",
   "execution_count": 21,
   "metadata": {
    "collapsed": true
   },
   "outputs": [],
   "source": [
    "df['month'] = list(map(lambda x: x[65:67], df.Links))"
   ]
  },
  {
   "cell_type": "code",
   "execution_count": 23,
   "metadata": {
    "collapsed": true
   },
   "outputs": [],
   "source": [
    "df['file_name'] = list(map(lambda x: x + '_listings.csv', df.date))"
   ]
  },
  {
   "cell_type": "code",
   "execution_count": 27,
   "metadata": {},
   "outputs": [],
   "source": [
    "os.makedirs('airbnb_data')"
   ]
  },
  {
   "cell_type": "code",
   "execution_count": 28,
   "metadata": {
    "collapsed": true
   },
   "outputs": [],
   "source": [
    "def download_from_links(k):\n",
    "    my_path = os.getcwd() + '/airbnb_data/'\n",
    "    full_name = os.path.join(my_path, df.file_name[k])\n",
    "    urlretrieve(df.Links[k], full_name)"
   ]
  },
  {
   "cell_type": "code",
   "execution_count": 29,
   "metadata": {
    "collapsed": true
   },
   "outputs": [],
   "source": [
    "for k in range(df.shape[0]):\n",
    "    download_from_links(k)"
   ]
  },
  {
   "cell_type": "code",
   "execution_count": null,
   "metadata": {
    "collapsed": true
   },
   "outputs": [],
   "source": [
    "data = pd.read_csv(os.getcwd() + '/airbnb_data/'+ df)\n",
    "for k in range(df.shape[0]):\n",
    "    temp = "
   ]
  },
  {
   "cell_type": "code",
   "execution_count": 40,
   "metadata": {},
   "outputs": [],
   "source": [
    "data = pd.read_csv(os.getcwd() + '/airbnb_data/'+ df.loc[df.shape[0]-1, 'file_name'], \n",
    "                   usecols = ['id', 'latitude', 'longitude', 'price']).assign(date = df.loc[df.shape[0]-1, 'date'])"
   ]
  },
  {
   "cell_type": "code",
   "execution_count": 43,
   "metadata": {},
   "outputs": [],
   "source": [
    "for k in range(df.shape[0]-1):\n",
    "    temp = pd.read_csv(os.getcwd() + '/airbnb_data/'+ df.loc[k, 'file_name'],\n",
    "                      usecols = ['id', 'latitude', 'longitude', 'price']).assign(date = df.loc[k, 'date'])\n",
    "    data = pd.concat([data, temp])"
   ]
  },
  {
   "cell_type": "code",
   "execution_count": 44,
   "metadata": {},
   "outputs": [
    {
     "data": {
      "text/plain": [
       "(1123107, 5)"
      ]
     },
     "execution_count": 44,
     "metadata": {},
     "output_type": "execute_result"
    }
   ],
   "source": [
    "data.shape"
   ]
  },
  {
   "cell_type": "code",
   "execution_count": 46,
   "metadata": {},
   "outputs": [],
   "source": [
    "data.to_csv('inside_airbnb_data.csv')"
   ]
  },
  {
   "cell_type": "code",
   "execution_count": null,
   "metadata": {
    "collapsed": true
   },
   "outputs": [],
   "source": []
  }
 ],
 "metadata": {
  "kernelspec": {
   "display_name": "Python 3",
   "language": "python",
   "name": "python3"
  },
  "language_info": {
   "codemirror_mode": {
    "name": "ipython",
    "version": 3
   },
   "file_extension": ".py",
   "mimetype": "text/x-python",
   "name": "python",
   "nbconvert_exporter": "python",
   "pygments_lexer": "ipython3",
   "version": "3.6.1"
  }
 },
 "nbformat": 4,
 "nbformat_minor": 2
}
