{
 "cells": [
  {
   "cell_type": "code",
   "execution_count": 3,
   "metadata": {
    "collapsed": true
   },
   "outputs": [],
   "source": [
    "import numpy as np\n",
    "import pandas as pd\n",
    "import geopandas as gp\n",
    "import matplotlib.pyplot as plt \n",
    "from fiona.crs import from_epsg\n",
    "import shapely\n",
    "%matplotlib inline"
   ]
  },
  {
   "cell_type": "code",
   "execution_count": 4,
   "metadata": {
    "collapsed": true
   },
   "outputs": [],
   "source": [
    "from geopandas.tools import sjoin"
   ]
  },
  {
   "cell_type": "code",
   "execution_count": 5,
   "metadata": {
    "collapsed": true
   },
   "outputs": [],
   "source": [
    "abb = pd.read_csv('unique_listings1516.csv')"
   ]
  },
  {
   "cell_type": "code",
   "execution_count": 6,
   "metadata": {},
   "outputs": [
    {
     "data": {
      "text/html": [
       "<div>\n",
       "<style>\n",
       "    .dataframe thead tr:only-child th {\n",
       "        text-align: right;\n",
       "    }\n",
       "\n",
       "    .dataframe thead th {\n",
       "        text-align: left;\n",
       "    }\n",
       "\n",
       "    .dataframe tbody tr th {\n",
       "        vertical-align: top;\n",
       "    }\n",
       "</style>\n",
       "<table border=\"1\" class=\"dataframe\">\n",
       "  <thead>\n",
       "    <tr style=\"text-align: right;\">\n",
       "      <th></th>\n",
       "      <th>Unnamed: 0</th>\n",
       "      <th>id</th>\n",
       "      <th>latitude</th>\n",
       "      <th>longitude</th>\n",
       "      <th>year</th>\n",
       "      <th>geometry</th>\n",
       "    </tr>\n",
       "  </thead>\n",
       "  <tbody>\n",
       "    <tr>\n",
       "      <th>0</th>\n",
       "      <td>0</td>\n",
       "      <td>1069266.0</td>\n",
       "      <td>40.756852</td>\n",
       "      <td>-73.964754</td>\n",
       "      <td>2015.0</td>\n",
       "      <td>POINT (-73.96475423499014 40.75685194386187)</td>\n",
       "    </tr>\n",
       "    <tr>\n",
       "      <th>1</th>\n",
       "      <td>1</td>\n",
       "      <td>1846722.0</td>\n",
       "      <td>40.830599</td>\n",
       "      <td>-73.941014</td>\n",
       "      <td>2015.0</td>\n",
       "      <td>POINT (-73.94101427789765 40.83059906748076)</td>\n",
       "    </tr>\n",
       "    <tr>\n",
       "      <th>2</th>\n",
       "      <td>2</td>\n",
       "      <td>2061725.0</td>\n",
       "      <td>40.692189</td>\n",
       "      <td>-73.924120</td>\n",
       "      <td>2015.0</td>\n",
       "      <td>POINT (-73.92412000114966 40.69218932278581)</td>\n",
       "    </tr>\n",
       "    <tr>\n",
       "      <th>3</th>\n",
       "      <td>3</td>\n",
       "      <td>44974.0</td>\n",
       "      <td>40.734751</td>\n",
       "      <td>-74.002592</td>\n",
       "      <td>2015.0</td>\n",
       "      <td>POINT (-74.00259246421851 40.73475108783765)</td>\n",
       "    </tr>\n",
       "    <tr>\n",
       "      <th>4</th>\n",
       "      <td>4</td>\n",
       "      <td>4701675.0</td>\n",
       "      <td>40.745282</td>\n",
       "      <td>-73.997836</td>\n",
       "      <td>2015.0</td>\n",
       "      <td>POINT (-73.99783627201059 40.74528161142444)</td>\n",
       "    </tr>\n",
       "  </tbody>\n",
       "</table>\n",
       "</div>"
      ],
      "text/plain": [
       "   Unnamed: 0         id   latitude  longitude    year  \\\n",
       "0           0  1069266.0  40.756852 -73.964754  2015.0   \n",
       "1           1  1846722.0  40.830599 -73.941014  2015.0   \n",
       "2           2  2061725.0  40.692189 -73.924120  2015.0   \n",
       "3           3    44974.0  40.734751 -74.002592  2015.0   \n",
       "4           4  4701675.0  40.745282 -73.997836  2015.0   \n",
       "\n",
       "                                       geometry  \n",
       "0  POINT (-73.96475423499014 40.75685194386187)  \n",
       "1  POINT (-73.94101427789765 40.83059906748076)  \n",
       "2  POINT (-73.92412000114966 40.69218932278581)  \n",
       "3  POINT (-74.00259246421851 40.73475108783765)  \n",
       "4  POINT (-73.99783627201059 40.74528161142444)  "
      ]
     },
     "execution_count": 6,
     "metadata": {},
     "output_type": "execute_result"
    }
   ],
   "source": [
    "abb.head()"
   ]
  },
  {
   "cell_type": "code",
   "execution_count": 7,
   "metadata": {},
   "outputs": [
    {
     "data": {
      "text/html": [
       "<div>\n",
       "<style>\n",
       "    .dataframe thead tr:only-child th {\n",
       "        text-align: right;\n",
       "    }\n",
       "\n",
       "    .dataframe thead th {\n",
       "        text-align: left;\n",
       "    }\n",
       "\n",
       "    .dataframe tbody tr th {\n",
       "        vertical-align: top;\n",
       "    }\n",
       "</style>\n",
       "<table border=\"1\" class=\"dataframe\">\n",
       "  <thead>\n",
       "    <tr style=\"text-align: right;\">\n",
       "      <th></th>\n",
       "      <th>Unnamed: 0</th>\n",
       "      <th>id</th>\n",
       "      <th>latitude</th>\n",
       "      <th>longitude</th>\n",
       "      <th>year</th>\n",
       "      <th>geometry</th>\n",
       "      <th>lonlat</th>\n",
       "    </tr>\n",
       "  </thead>\n",
       "  <tbody>\n",
       "    <tr>\n",
       "      <th>0</th>\n",
       "      <td>0</td>\n",
       "      <td>1069266.0</td>\n",
       "      <td>40.756852</td>\n",
       "      <td>-73.964754</td>\n",
       "      <td>2015.0</td>\n",
       "      <td>POINT (-73.96475423499014 40.75685194386187)</td>\n",
       "      <td>(-73.964754235, 40.7568519439)</td>\n",
       "    </tr>\n",
       "    <tr>\n",
       "      <th>1</th>\n",
       "      <td>1</td>\n",
       "      <td>1846722.0</td>\n",
       "      <td>40.830599</td>\n",
       "      <td>-73.941014</td>\n",
       "      <td>2015.0</td>\n",
       "      <td>POINT (-73.94101427789765 40.83059906748076)</td>\n",
       "      <td>(-73.9410142779, 40.8305990675)</td>\n",
       "    </tr>\n",
       "    <tr>\n",
       "      <th>2</th>\n",
       "      <td>2</td>\n",
       "      <td>2061725.0</td>\n",
       "      <td>40.692189</td>\n",
       "      <td>-73.924120</td>\n",
       "      <td>2015.0</td>\n",
       "      <td>POINT (-73.92412000114966 40.69218932278581)</td>\n",
       "      <td>(-73.9241200011, 40.6921893228)</td>\n",
       "    </tr>\n",
       "    <tr>\n",
       "      <th>3</th>\n",
       "      <td>3</td>\n",
       "      <td>44974.0</td>\n",
       "      <td>40.734751</td>\n",
       "      <td>-74.002592</td>\n",
       "      <td>2015.0</td>\n",
       "      <td>POINT (-74.00259246421851 40.73475108783765)</td>\n",
       "      <td>(-74.0025924642, 40.7347510878)</td>\n",
       "    </tr>\n",
       "    <tr>\n",
       "      <th>4</th>\n",
       "      <td>4</td>\n",
       "      <td>4701675.0</td>\n",
       "      <td>40.745282</td>\n",
       "      <td>-73.997836</td>\n",
       "      <td>2015.0</td>\n",
       "      <td>POINT (-73.99783627201059 40.74528161142444)</td>\n",
       "      <td>(-73.997836272, 40.7452816114)</td>\n",
       "    </tr>\n",
       "  </tbody>\n",
       "</table>\n",
       "</div>"
      ],
      "text/plain": [
       "   Unnamed: 0         id   latitude  longitude    year  \\\n",
       "0           0  1069266.0  40.756852 -73.964754  2015.0   \n",
       "1           1  1846722.0  40.830599 -73.941014  2015.0   \n",
       "2           2  2061725.0  40.692189 -73.924120  2015.0   \n",
       "3           3    44974.0  40.734751 -74.002592  2015.0   \n",
       "4           4  4701675.0  40.745282 -73.997836  2015.0   \n",
       "\n",
       "                                       geometry  \\\n",
       "0  POINT (-73.96475423499014 40.75685194386187)   \n",
       "1  POINT (-73.94101427789765 40.83059906748076)   \n",
       "2  POINT (-73.92412000114966 40.69218932278581)   \n",
       "3  POINT (-74.00259246421851 40.73475108783765)   \n",
       "4  POINT (-73.99783627201059 40.74528161142444)   \n",
       "\n",
       "                            lonlat  \n",
       "0   (-73.964754235, 40.7568519439)  \n",
       "1  (-73.9410142779, 40.8305990675)  \n",
       "2  (-73.9241200011, 40.6921893228)  \n",
       "3  (-74.0025924642, 40.7347510878)  \n",
       "4   (-73.997836272, 40.7452816114)  "
      ]
     },
     "execution_count": 7,
     "metadata": {},
     "output_type": "execute_result"
    }
   ],
   "source": [
    " import shapely\n",
    "# combine lat and lon to one column\n",
    "abb['lonlat']=list(zip(abb.longitude,abb.latitude))\n",
    "# Create Point Geometry for based on lonlat column\n",
    "abb['geometry']=abb[['lonlat']].applymap(lambda x:shapely.geometry.Point(x))\n",
    "abb.head()"
   ]
  },
  {
   "cell_type": "code",
   "execution_count": 8,
   "metadata": {
    "collapsed": true
   },
   "outputs": [],
   "source": [
    "abb = gp.GeoDataFrame(abb, geometry='geometry')"
   ]
  },
  {
   "cell_type": "code",
   "execution_count": 9,
   "metadata": {},
   "outputs": [
    {
     "data": {
      "text/html": [
       "<div>\n",
       "<style>\n",
       "    .dataframe thead tr:only-child th {\n",
       "        text-align: right;\n",
       "    }\n",
       "\n",
       "    .dataframe thead th {\n",
       "        text-align: left;\n",
       "    }\n",
       "\n",
       "    .dataframe tbody tr th {\n",
       "        vertical-align: top;\n",
       "    }\n",
       "</style>\n",
       "<table border=\"1\" class=\"dataframe\">\n",
       "  <thead>\n",
       "    <tr style=\"text-align: right;\">\n",
       "      <th></th>\n",
       "      <th>Unnamed: 0</th>\n",
       "      <th>id</th>\n",
       "      <th>latitude</th>\n",
       "      <th>longitude</th>\n",
       "      <th>year</th>\n",
       "      <th>geometry</th>\n",
       "      <th>lonlat</th>\n",
       "    </tr>\n",
       "  </thead>\n",
       "  <tbody>\n",
       "    <tr>\n",
       "      <th>0</th>\n",
       "      <td>0</td>\n",
       "      <td>1069266.0</td>\n",
       "      <td>40.756852</td>\n",
       "      <td>-73.964754</td>\n",
       "      <td>2015.0</td>\n",
       "      <td>POINT (-73.96475423499014 40.75685194386187)</td>\n",
       "      <td>(-73.964754235, 40.7568519439)</td>\n",
       "    </tr>\n",
       "    <tr>\n",
       "      <th>1</th>\n",
       "      <td>1</td>\n",
       "      <td>1846722.0</td>\n",
       "      <td>40.830599</td>\n",
       "      <td>-73.941014</td>\n",
       "      <td>2015.0</td>\n",
       "      <td>POINT (-73.94101427789765 40.83059906748076)</td>\n",
       "      <td>(-73.9410142779, 40.8305990675)</td>\n",
       "    </tr>\n",
       "    <tr>\n",
       "      <th>2</th>\n",
       "      <td>2</td>\n",
       "      <td>2061725.0</td>\n",
       "      <td>40.692189</td>\n",
       "      <td>-73.924120</td>\n",
       "      <td>2015.0</td>\n",
       "      <td>POINT (-73.92412000114966 40.69218932278581)</td>\n",
       "      <td>(-73.9241200011, 40.6921893228)</td>\n",
       "    </tr>\n",
       "    <tr>\n",
       "      <th>3</th>\n",
       "      <td>3</td>\n",
       "      <td>44974.0</td>\n",
       "      <td>40.734751</td>\n",
       "      <td>-74.002592</td>\n",
       "      <td>2015.0</td>\n",
       "      <td>POINT (-74.00259246421851 40.73475108783765)</td>\n",
       "      <td>(-74.0025924642, 40.7347510878)</td>\n",
       "    </tr>\n",
       "    <tr>\n",
       "      <th>4</th>\n",
       "      <td>4</td>\n",
       "      <td>4701675.0</td>\n",
       "      <td>40.745282</td>\n",
       "      <td>-73.997836</td>\n",
       "      <td>2015.0</td>\n",
       "      <td>POINT (-73.99783627201059 40.74528161142444)</td>\n",
       "      <td>(-73.997836272, 40.7452816114)</td>\n",
       "    </tr>\n",
       "  </tbody>\n",
       "</table>\n",
       "</div>"
      ],
      "text/plain": [
       "   Unnamed: 0         id   latitude  longitude    year  \\\n",
       "0           0  1069266.0  40.756852 -73.964754  2015.0   \n",
       "1           1  1846722.0  40.830599 -73.941014  2015.0   \n",
       "2           2  2061725.0  40.692189 -73.924120  2015.0   \n",
       "3           3    44974.0  40.734751 -74.002592  2015.0   \n",
       "4           4  4701675.0  40.745282 -73.997836  2015.0   \n",
       "\n",
       "                                       geometry  \\\n",
       "0  POINT (-73.96475423499014 40.75685194386187)   \n",
       "1  POINT (-73.94101427789765 40.83059906748076)   \n",
       "2  POINT (-73.92412000114966 40.69218932278581)   \n",
       "3  POINT (-74.00259246421851 40.73475108783765)   \n",
       "4  POINT (-73.99783627201059 40.74528161142444)   \n",
       "\n",
       "                            lonlat  \n",
       "0   (-73.964754235, 40.7568519439)  \n",
       "1  (-73.9410142779, 40.8305990675)  \n",
       "2  (-73.9241200011, 40.6921893228)  \n",
       "3  (-74.0025924642, 40.7347510878)  \n",
       "4   (-73.997836272, 40.7452816114)  "
      ]
     },
     "execution_count": 9,
     "metadata": {},
     "output_type": "execute_result"
    }
   ],
   "source": [
    "abb.head()"
   ]
  },
  {
   "cell_type": "code",
   "execution_count": 10,
   "metadata": {
    "collapsed": true
   },
   "outputs": [],
   "source": [
    "bbl = gp.GeoDataFrame.from_file('drive-download-20171205T204609Z-001/buffer100meters.shp')"
   ]
  },
  {
   "cell_type": "code",
   "execution_count": 11,
   "metadata": {},
   "outputs": [
    {
     "data": {
      "text/html": [
       "<div>\n",
       "<style>\n",
       "    .dataframe thead tr:only-child th {\n",
       "        text-align: right;\n",
       "    }\n",
       "\n",
       "    .dataframe thead th {\n",
       "        text-align: left;\n",
       "    }\n",
       "\n",
       "    .dataframe tbody tr th {\n",
       "        vertical-align: top;\n",
       "    }\n",
       "</style>\n",
       "<table border=\"1\" class=\"dataframe\">\n",
       "  <thead>\n",
       "    <tr style=\"text-align: right;\">\n",
       "      <th></th>\n",
       "      <th>Borough</th>\n",
       "      <th>ZipCode</th>\n",
       "      <th>BBL</th>\n",
       "      <th>geometry</th>\n",
       "    </tr>\n",
       "  </thead>\n",
       "  <tbody>\n",
       "    <tr>\n",
       "      <th>0</th>\n",
       "      <td>BK</td>\n",
       "      <td>11224</td>\n",
       "      <td>3.070360e+09</td>\n",
       "      <td>POLYGON ((980829.6322855615 149526.84859999, 9...</td>\n",
       "    </tr>\n",
       "    <tr>\n",
       "      <th>1</th>\n",
       "      <td>BK</td>\n",
       "      <td>11224</td>\n",
       "      <td>3.070370e+09</td>\n",
       "      <td>POLYGON ((980874.4887737731 149276.5486705538,...</td>\n",
       "    </tr>\n",
       "    <tr>\n",
       "      <th>2</th>\n",
       "      <td>BK</td>\n",
       "      <td>11224</td>\n",
       "      <td>3.086960e+09</td>\n",
       "      <td>POLYGON ((990221.7646485794 148530.7255509223,...</td>\n",
       "    </tr>\n",
       "    <tr>\n",
       "      <th>3</th>\n",
       "      <td>BK</td>\n",
       "      <td>11224</td>\n",
       "      <td>3.070290e+09</td>\n",
       "      <td>POLYGON ((983005.4670232051 148690.8695704278,...</td>\n",
       "    </tr>\n",
       "    <tr>\n",
       "      <th>4</th>\n",
       "      <td>BK</td>\n",
       "      <td>11224</td>\n",
       "      <td>3.070490e+09</td>\n",
       "      <td>POLYGON ((985015.2724194435 148767.2932753136,...</td>\n",
       "    </tr>\n",
       "  </tbody>\n",
       "</table>\n",
       "</div>"
      ],
      "text/plain": [
       "  Borough  ZipCode           BBL  \\\n",
       "0      BK    11224  3.070360e+09   \n",
       "1      BK    11224  3.070370e+09   \n",
       "2      BK    11224  3.086960e+09   \n",
       "3      BK    11224  3.070290e+09   \n",
       "4      BK    11224  3.070490e+09   \n",
       "\n",
       "                                            geometry  \n",
       "0  POLYGON ((980829.6322855615 149526.84859999, 9...  \n",
       "1  POLYGON ((980874.4887737731 149276.5486705538,...  \n",
       "2  POLYGON ((990221.7646485794 148530.7255509223,...  \n",
       "3  POLYGON ((983005.4670232051 148690.8695704278,...  \n",
       "4  POLYGON ((985015.2724194435 148767.2932753136,...  "
      ]
     },
     "execution_count": 11,
     "metadata": {},
     "output_type": "execute_result"
    }
   ],
   "source": [
    "bbl.head()"
   ]
  },
  {
   "cell_type": "code",
   "execution_count": 12,
   "metadata": {},
   "outputs": [
    {
     "data": {
      "text/plain": [
       "{'ellps': 'GRS80',\n",
       " 'lat_0': 40.16666666666666,\n",
       " 'lat_1': 40.66666666666666,\n",
       " 'lat_2': 41.03333333333333,\n",
       " 'lon_0': -74,\n",
       " 'no_defs': True,\n",
       " 'proj': 'lcc',\n",
       " 'units': 'us-ft',\n",
       " 'x_0': 300000.0000000001,\n",
       " 'y_0': 0}"
      ]
     },
     "execution_count": 12,
     "metadata": {},
     "output_type": "execute_result"
    }
   ],
   "source": [
    "bbl.crs"
   ]
  },
  {
   "cell_type": "code",
   "execution_count": 13,
   "metadata": {},
   "outputs": [
    {
     "data": {
      "text/plain": [
       "{'ellps': 'GRS80',\n",
       " 'lat_0': 40.16666666666666,\n",
       " 'lat_1': 40.66666666666666,\n",
       " 'lat_2': 41.03333333333333,\n",
       " 'lon_0': -74,\n",
       " 'no_defs': True,\n",
       " 'proj': 'lcc',\n",
       " 'units': 'us-ft',\n",
       " 'x_0': 300000.0000000001,\n",
       " 'y_0': 0}"
      ]
     },
     "execution_count": 13,
     "metadata": {},
     "output_type": "execute_result"
    }
   ],
   "source": [
    "abb.crs = from_epsg(4326)\n",
    "bbl.crs"
   ]
  },
  {
   "cell_type": "code",
   "execution_count": 14,
   "metadata": {},
   "outputs": [
    {
     "data": {
      "text/plain": [
       "{'init': 'epsg:4326', 'no_defs': True}"
      ]
     },
     "execution_count": 14,
     "metadata": {},
     "output_type": "execute_result"
    }
   ],
   "source": [
    "abb.crs"
   ]
  },
  {
   "cell_type": "code",
   "execution_count": 15,
   "metadata": {
    "collapsed": true
   },
   "outputs": [],
   "source": [
    "abb = abb.to_crs(epsg=2263)\n",
    "bbl = bbl.to_crs(epsg=2263)"
   ]
  },
  {
   "cell_type": "code",
   "execution_count": 39,
   "metadata": {
    "collapsed": true
   },
   "outputs": [],
   "source": [
    "merged_100 = sjoin(abb, bbl, how='right',op='within')"
   ]
  },
  {
   "cell_type": "code",
   "execution_count": 40,
   "metadata": {},
   "outputs": [
    {
     "data": {
      "text/html": [
       "<div>\n",
       "<style>\n",
       "    .dataframe thead tr:only-child th {\n",
       "        text-align: right;\n",
       "    }\n",
       "\n",
       "    .dataframe thead th {\n",
       "        text-align: left;\n",
       "    }\n",
       "\n",
       "    .dataframe tbody tr th {\n",
       "        vertical-align: top;\n",
       "    }\n",
       "</style>\n",
       "<table border=\"1\" class=\"dataframe\">\n",
       "  <thead>\n",
       "    <tr style=\"text-align: right;\">\n",
       "      <th></th>\n",
       "      <th>index_left</th>\n",
       "      <th>Unnamed: 0</th>\n",
       "      <th>id</th>\n",
       "      <th>latitude</th>\n",
       "      <th>longitude</th>\n",
       "      <th>year</th>\n",
       "      <th>lonlat</th>\n",
       "      <th>Borough</th>\n",
       "      <th>ZipCode</th>\n",
       "      <th>BBL</th>\n",
       "      <th>geometry</th>\n",
       "    </tr>\n",
       "    <tr>\n",
       "      <th>index_right</th>\n",
       "      <th></th>\n",
       "      <th></th>\n",
       "      <th></th>\n",
       "      <th></th>\n",
       "      <th></th>\n",
       "      <th></th>\n",
       "      <th></th>\n",
       "      <th></th>\n",
       "      <th></th>\n",
       "      <th></th>\n",
       "      <th></th>\n",
       "    </tr>\n",
       "  </thead>\n",
       "  <tbody>\n",
       "    <tr>\n",
       "      <th>3264</th>\n",
       "      <td>3253.0</td>\n",
       "      <td>3253.0</td>\n",
       "      <td>233220.0</td>\n",
       "      <td>40.577293</td>\n",
       "      <td>-73.986708</td>\n",
       "      <td>2015.0</td>\n",
       "      <td>(-73.9867076635, 40.5772925427)</td>\n",
       "      <td>BK</td>\n",
       "      <td>11224</td>\n",
       "      <td>3.070190e+09</td>\n",
       "      <td>POLYGON ((988031.9581317678 149602.2543399451,...</td>\n",
       "    </tr>\n",
       "    <tr>\n",
       "      <th>3275</th>\n",
       "      <td>3253.0</td>\n",
       "      <td>3253.0</td>\n",
       "      <td>233220.0</td>\n",
       "      <td>40.577293</td>\n",
       "      <td>-73.986708</td>\n",
       "      <td>2015.0</td>\n",
       "      <td>(-73.9867076635, 40.5772925427)</td>\n",
       "      <td>BK</td>\n",
       "      <td>11224</td>\n",
       "      <td>3.070190e+09</td>\n",
       "      <td>POLYGON ((988026.7318087603 149638.2962967966,...</td>\n",
       "    </tr>\n",
       "    <tr>\n",
       "      <th>3282</th>\n",
       "      <td>3253.0</td>\n",
       "      <td>3253.0</td>\n",
       "      <td>233220.0</td>\n",
       "      <td>40.577293</td>\n",
       "      <td>-73.986708</td>\n",
       "      <td>2015.0</td>\n",
       "      <td>(-73.9867076635, 40.5772925427)</td>\n",
       "      <td>BK</td>\n",
       "      <td>11224</td>\n",
       "      <td>3.070190e+09</td>\n",
       "      <td>POLYGON ((988034.4646200248 149584.9707685679,...</td>\n",
       "    </tr>\n",
       "    <tr>\n",
       "      <th>3336</th>\n",
       "      <td>3253.0</td>\n",
       "      <td>3253.0</td>\n",
       "      <td>233220.0</td>\n",
       "      <td>40.577293</td>\n",
       "      <td>-73.986708</td>\n",
       "      <td>2015.0</td>\n",
       "      <td>(-73.9867076635, 40.5772925427)</td>\n",
       "      <td>BK</td>\n",
       "      <td>11224</td>\n",
       "      <td>3.070190e+09</td>\n",
       "      <td>POLYGON ((988043.7659903382 149520.8281176619,...</td>\n",
       "    </tr>\n",
       "    <tr>\n",
       "      <th>3354</th>\n",
       "      <td>11655.0</td>\n",
       "      <td>11655.0</td>\n",
       "      <td>4738229.0</td>\n",
       "      <td>40.578830</td>\n",
       "      <td>-73.983754</td>\n",
       "      <td>2015.0</td>\n",
       "      <td>(-73.9837540065, 40.5788295003)</td>\n",
       "      <td>BK</td>\n",
       "      <td>11224</td>\n",
       "      <td>3.070220e+09</td>\n",
       "      <td>POLYGON ((988810.5055474748 150181.476703846, ...</td>\n",
       "    </tr>\n",
       "  </tbody>\n",
       "</table>\n",
       "</div>"
      ],
      "text/plain": [
       "             index_left  Unnamed: 0         id   latitude  longitude    year  \\\n",
       "index_right                                                                    \n",
       "3264             3253.0      3253.0   233220.0  40.577293 -73.986708  2015.0   \n",
       "3275             3253.0      3253.0   233220.0  40.577293 -73.986708  2015.0   \n",
       "3282             3253.0      3253.0   233220.0  40.577293 -73.986708  2015.0   \n",
       "3336             3253.0      3253.0   233220.0  40.577293 -73.986708  2015.0   \n",
       "3354            11655.0     11655.0  4738229.0  40.578830 -73.983754  2015.0   \n",
       "\n",
       "                                      lonlat Borough  ZipCode           BBL  \\\n",
       "index_right                                                                   \n",
       "3264         (-73.9867076635, 40.5772925427)      BK    11224  3.070190e+09   \n",
       "3275         (-73.9867076635, 40.5772925427)      BK    11224  3.070190e+09   \n",
       "3282         (-73.9867076635, 40.5772925427)      BK    11224  3.070190e+09   \n",
       "3336         (-73.9867076635, 40.5772925427)      BK    11224  3.070190e+09   \n",
       "3354         (-73.9837540065, 40.5788295003)      BK    11224  3.070220e+09   \n",
       "\n",
       "                                                      geometry  \n",
       "index_right                                                     \n",
       "3264         POLYGON ((988031.9581317678 149602.2543399451,...  \n",
       "3275         POLYGON ((988026.7318087603 149638.2962967966,...  \n",
       "3282         POLYGON ((988034.4646200248 149584.9707685679,...  \n",
       "3336         POLYGON ((988043.7659903382 149520.8281176619,...  \n",
       "3354         POLYGON ((988810.5055474748 150181.476703846, ...  "
      ]
     },
     "execution_count": 40,
     "metadata": {},
     "output_type": "execute_result"
    }
   ],
   "source": [
    "merged_100.head()"
   ]
  },
  {
   "cell_type": "code",
   "execution_count": 41,
   "metadata": {},
   "outputs": [],
   "source": [
    "merged_100.reset_index(inplace=True)"
   ]
  },
  {
   "cell_type": "code",
   "execution_count": 42,
   "metadata": {},
   "outputs": [
    {
     "data": {
      "text/html": [
       "<div>\n",
       "<style>\n",
       "    .dataframe thead tr:only-child th {\n",
       "        text-align: right;\n",
       "    }\n",
       "\n",
       "    .dataframe thead th {\n",
       "        text-align: left;\n",
       "    }\n",
       "\n",
       "    .dataframe tbody tr th {\n",
       "        vertical-align: top;\n",
       "    }\n",
       "</style>\n",
       "<table border=\"1\" class=\"dataframe\">\n",
       "  <thead>\n",
       "    <tr style=\"text-align: right;\">\n",
       "      <th></th>\n",
       "      <th>index_right</th>\n",
       "      <th>index_left</th>\n",
       "      <th>Unnamed: 0</th>\n",
       "      <th>id</th>\n",
       "      <th>latitude</th>\n",
       "      <th>longitude</th>\n",
       "      <th>year</th>\n",
       "      <th>lonlat</th>\n",
       "      <th>Borough</th>\n",
       "      <th>ZipCode</th>\n",
       "      <th>BBL</th>\n",
       "      <th>geometry</th>\n",
       "    </tr>\n",
       "  </thead>\n",
       "  <tbody>\n",
       "    <tr>\n",
       "      <th>0</th>\n",
       "      <td>3264</td>\n",
       "      <td>3253.0</td>\n",
       "      <td>3253.0</td>\n",
       "      <td>233220.0</td>\n",
       "      <td>40.577293</td>\n",
       "      <td>-73.986708</td>\n",
       "      <td>2015.0</td>\n",
       "      <td>(-73.9867076635, 40.5772925427)</td>\n",
       "      <td>BK</td>\n",
       "      <td>11224</td>\n",
       "      <td>3.070190e+09</td>\n",
       "      <td>POLYGON ((988031.9581317678 149602.2543399451,...</td>\n",
       "    </tr>\n",
       "    <tr>\n",
       "      <th>1</th>\n",
       "      <td>3275</td>\n",
       "      <td>3253.0</td>\n",
       "      <td>3253.0</td>\n",
       "      <td>233220.0</td>\n",
       "      <td>40.577293</td>\n",
       "      <td>-73.986708</td>\n",
       "      <td>2015.0</td>\n",
       "      <td>(-73.9867076635, 40.5772925427)</td>\n",
       "      <td>BK</td>\n",
       "      <td>11224</td>\n",
       "      <td>3.070190e+09</td>\n",
       "      <td>POLYGON ((988026.7318087603 149638.2962967966,...</td>\n",
       "    </tr>\n",
       "    <tr>\n",
       "      <th>2</th>\n",
       "      <td>3282</td>\n",
       "      <td>3253.0</td>\n",
       "      <td>3253.0</td>\n",
       "      <td>233220.0</td>\n",
       "      <td>40.577293</td>\n",
       "      <td>-73.986708</td>\n",
       "      <td>2015.0</td>\n",
       "      <td>(-73.9867076635, 40.5772925427)</td>\n",
       "      <td>BK</td>\n",
       "      <td>11224</td>\n",
       "      <td>3.070190e+09</td>\n",
       "      <td>POLYGON ((988034.4646200248 149584.9707685679,...</td>\n",
       "    </tr>\n",
       "    <tr>\n",
       "      <th>3</th>\n",
       "      <td>3336</td>\n",
       "      <td>3253.0</td>\n",
       "      <td>3253.0</td>\n",
       "      <td>233220.0</td>\n",
       "      <td>40.577293</td>\n",
       "      <td>-73.986708</td>\n",
       "      <td>2015.0</td>\n",
       "      <td>(-73.9867076635, 40.5772925427)</td>\n",
       "      <td>BK</td>\n",
       "      <td>11224</td>\n",
       "      <td>3.070190e+09</td>\n",
       "      <td>POLYGON ((988043.7659903382 149520.8281176619,...</td>\n",
       "    </tr>\n",
       "    <tr>\n",
       "      <th>4</th>\n",
       "      <td>3354</td>\n",
       "      <td>11655.0</td>\n",
       "      <td>11655.0</td>\n",
       "      <td>4738229.0</td>\n",
       "      <td>40.578830</td>\n",
       "      <td>-73.983754</td>\n",
       "      <td>2015.0</td>\n",
       "      <td>(-73.9837540065, 40.5788295003)</td>\n",
       "      <td>BK</td>\n",
       "      <td>11224</td>\n",
       "      <td>3.070220e+09</td>\n",
       "      <td>POLYGON ((988810.5055474748 150181.476703846, ...</td>\n",
       "    </tr>\n",
       "  </tbody>\n",
       "</table>\n",
       "</div>"
      ],
      "text/plain": [
       "   index_right  index_left  Unnamed: 0         id   latitude  longitude  \\\n",
       "0         3264      3253.0      3253.0   233220.0  40.577293 -73.986708   \n",
       "1         3275      3253.0      3253.0   233220.0  40.577293 -73.986708   \n",
       "2         3282      3253.0      3253.0   233220.0  40.577293 -73.986708   \n",
       "3         3336      3253.0      3253.0   233220.0  40.577293 -73.986708   \n",
       "4         3354     11655.0     11655.0  4738229.0  40.578830 -73.983754   \n",
       "\n",
       "     year                           lonlat Borough  ZipCode           BBL  \\\n",
       "0  2015.0  (-73.9867076635, 40.5772925427)      BK    11224  3.070190e+09   \n",
       "1  2015.0  (-73.9867076635, 40.5772925427)      BK    11224  3.070190e+09   \n",
       "2  2015.0  (-73.9867076635, 40.5772925427)      BK    11224  3.070190e+09   \n",
       "3  2015.0  (-73.9867076635, 40.5772925427)      BK    11224  3.070190e+09   \n",
       "4  2015.0  (-73.9837540065, 40.5788295003)      BK    11224  3.070220e+09   \n",
       "\n",
       "                                            geometry  \n",
       "0  POLYGON ((988031.9581317678 149602.2543399451,...  \n",
       "1  POLYGON ((988026.7318087603 149638.2962967966,...  \n",
       "2  POLYGON ((988034.4646200248 149584.9707685679,...  \n",
       "3  POLYGON ((988043.7659903382 149520.8281176619,...  \n",
       "4  POLYGON ((988810.5055474748 150181.476703846, ...  "
      ]
     },
     "execution_count": 42,
     "metadata": {},
     "output_type": "execute_result"
    }
   ],
   "source": [
    "merged_100.head()"
   ]
  },
  {
   "cell_type": "code",
   "execution_count": 45,
   "metadata": {
    "collapsed": true
   },
   "outputs": [],
   "source": [
    "grp_data = merged_100.groupby(merged_100['BBL']).count()"
   ]
  },
  {
   "cell_type": "code",
   "execution_count": 47,
   "metadata": {},
   "outputs": [],
   "source": [
    "#del merged_100['BBL']\n",
    "grp_data.reset_index(inplace=True)"
   ]
  },
  {
   "cell_type": "code",
   "execution_count": null,
   "metadata": {
    "collapsed": true
   },
   "outputs": [],
   "source": []
  },
  {
   "cell_type": "code",
   "execution_count": 48,
   "metadata": {},
   "outputs": [
    {
     "data": {
      "text/html": [
       "<div>\n",
       "<style>\n",
       "    .dataframe thead tr:only-child th {\n",
       "        text-align: right;\n",
       "    }\n",
       "\n",
       "    .dataframe thead th {\n",
       "        text-align: left;\n",
       "    }\n",
       "\n",
       "    .dataframe tbody tr th {\n",
       "        vertical-align: top;\n",
       "    }\n",
       "</style>\n",
       "<table border=\"1\" class=\"dataframe\">\n",
       "  <thead>\n",
       "    <tr style=\"text-align: right;\">\n",
       "      <th></th>\n",
       "      <th>BBL</th>\n",
       "      <th>index_right</th>\n",
       "      <th>index_left</th>\n",
       "      <th>Unnamed: 0</th>\n",
       "      <th>id</th>\n",
       "      <th>latitude</th>\n",
       "      <th>longitude</th>\n",
       "      <th>year</th>\n",
       "      <th>lonlat</th>\n",
       "      <th>Borough</th>\n",
       "      <th>ZipCode</th>\n",
       "      <th>geometry</th>\n",
       "    </tr>\n",
       "  </thead>\n",
       "  <tbody>\n",
       "    <tr>\n",
       "      <th>0</th>\n",
       "      <td>1.000010e+09</td>\n",
       "      <td>1</td>\n",
       "      <td>0</td>\n",
       "      <td>0</td>\n",
       "      <td>0</td>\n",
       "      <td>0</td>\n",
       "      <td>0</td>\n",
       "      <td>0</td>\n",
       "      <td>0</td>\n",
       "      <td>1</td>\n",
       "      <td>1</td>\n",
       "      <td>1</td>\n",
       "    </tr>\n",
       "    <tr>\n",
       "      <th>1</th>\n",
       "      <td>1.000010e+09</td>\n",
       "      <td>1</td>\n",
       "      <td>0</td>\n",
       "      <td>0</td>\n",
       "      <td>0</td>\n",
       "      <td>0</td>\n",
       "      <td>0</td>\n",
       "      <td>0</td>\n",
       "      <td>0</td>\n",
       "      <td>1</td>\n",
       "      <td>1</td>\n",
       "      <td>1</td>\n",
       "    </tr>\n",
       "    <tr>\n",
       "      <th>2</th>\n",
       "      <td>1.000010e+09</td>\n",
       "      <td>1</td>\n",
       "      <td>0</td>\n",
       "      <td>0</td>\n",
       "      <td>0</td>\n",
       "      <td>0</td>\n",
       "      <td>0</td>\n",
       "      <td>0</td>\n",
       "      <td>0</td>\n",
       "      <td>1</td>\n",
       "      <td>1</td>\n",
       "      <td>1</td>\n",
       "    </tr>\n",
       "    <tr>\n",
       "      <th>3</th>\n",
       "      <td>1.000020e+09</td>\n",
       "      <td>1</td>\n",
       "      <td>0</td>\n",
       "      <td>0</td>\n",
       "      <td>0</td>\n",
       "      <td>0</td>\n",
       "      <td>0</td>\n",
       "      <td>0</td>\n",
       "      <td>0</td>\n",
       "      <td>1</td>\n",
       "      <td>1</td>\n",
       "      <td>1</td>\n",
       "    </tr>\n",
       "    <tr>\n",
       "      <th>4</th>\n",
       "      <td>1.000020e+09</td>\n",
       "      <td>1</td>\n",
       "      <td>0</td>\n",
       "      <td>0</td>\n",
       "      <td>0</td>\n",
       "      <td>0</td>\n",
       "      <td>0</td>\n",
       "      <td>0</td>\n",
       "      <td>0</td>\n",
       "      <td>1</td>\n",
       "      <td>1</td>\n",
       "      <td>1</td>\n",
       "    </tr>\n",
       "  </tbody>\n",
       "</table>\n",
       "</div>"
      ],
      "text/plain": [
       "            BBL  index_right  index_left  Unnamed: 0  id  latitude  longitude  \\\n",
       "0  1.000010e+09            1           0           0   0         0          0   \n",
       "1  1.000010e+09            1           0           0   0         0          0   \n",
       "2  1.000010e+09            1           0           0   0         0          0   \n",
       "3  1.000020e+09            1           0           0   0         0          0   \n",
       "4  1.000020e+09            1           0           0   0         0          0   \n",
       "\n",
       "   year  lonlat  Borough  ZipCode  geometry  \n",
       "0     0       0        1        1         1  \n",
       "1     0       0        1        1         1  \n",
       "2     0       0        1        1         1  \n",
       "3     0       0        1        1         1  \n",
       "4     0       0        1        1         1  "
      ]
     },
     "execution_count": 48,
     "metadata": {},
     "output_type": "execute_result"
    }
   ],
   "source": [
    "grp_data.head()"
   ]
  },
  {
   "cell_type": "code",
   "execution_count": 57,
   "metadata": {},
   "outputs": [
    {
     "data": {
      "text/plain": [
       "<matplotlib.axes._subplots.AxesSubplot at 0x1350a7c50>"
      ]
     },
     "execution_count": 57,
     "metadata": {},
     "output_type": "execute_result"
    },
    {
     "data": {
      "image/png": "[encoded data removed]",
      "text/plain": [
       "<matplotlib.figure.Figure at 0x135048b00>"
      ]
     },
     "metadata": {},
     "output_type": "display_data"
    }
   ],
   "source": [
    "grp_data['id'].hist(bins=30)"
   ]
  },
  {
   "cell_type": "code",
   "execution_count": 60,
   "metadata": {},
   "outputs": [
    {
     "data": {
      "text/plain": [
       "(array([  8.09205000e+05,   3.54510000e+04,   8.76400000e+03,\n",
       "          2.54700000e+03,   8.41000000e+02,   3.22000000e+02,\n",
       "          8.50000000e+01,   1.60000000e+01,   3.00000000e+00,\n",
       "          2.00000000e+00]),\n",
       " array([ 0. ,  0.9,  1.8,  2.7,  3.6,  4.5,  5.4,  6.3,  7.2,  8.1,  9. ]),\n",
       " <a list of 10 Patch objects>)"
      ]
     },
     "execution_count": 60,
     "metadata": {},
     "output_type": "execute_result"
    },
    {
     "data": {
      "image/png": "[encoded data removed]",
      "text/plain": [
       "<matplotlib.figure.Figure at 0x134f94c18>"
      ]
     },
     "metadata": {},
     "output_type": "display_data"
    }
   ],
   "source": [
    "plt.hist(grp_data['id'], log=True)"
   ]
  },
  {
   "cell_type": "code",
   "execution_count": 56,
   "metadata": {
    "collapsed": true
   },
   "outputs": [],
   "source": [
    "abb.hist?"
   ]
  },
  {
   "cell_type": "code",
   "execution_count": null,
   "metadata": {
    "collapsed": true
   },
   "outputs": [],
   "source": []
  }
 ],
 "metadata": {
  "kernelspec": {
   "display_name": "Python 3",
   "language": "python",
   "name": "python3"
  },
  "language_info": {
   "codemirror_mode": {
    "name": "ipython",
    "version": 3
   },
   "file_extension": ".py",
   "mimetype": "text/x-python",
   "name": "python",
   "nbconvert_exporter": "python",
   "pygments_lexer": "ipython3",
   "version": "3.6.2"
  }
 },
 "nbformat": 4,
 "nbformat_minor": 2
}
