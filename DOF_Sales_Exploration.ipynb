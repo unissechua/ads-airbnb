{
 "cells": [
  {
   "cell_type": "code",
   "execution_count": 1,
   "metadata": {},
   "outputs": [
    {
     "name": "stdout",
     "output_type": "stream",
     "text": [
      "Populating the interactive namespace from numpy and matplotlib\n"
     ]
    },
    {
     "name": "stderr",
     "output_type": "stream",
     "text": [
      "/opt/rh/anaconda/root/envs/PUI2016_Python3/lib/python3.5/site-packages/IPython/core/magics/pylab.py:161: UserWarning: pylab import has clobbered these variables: ['plt']\n",
      "`%matplotlib` prevents importing * from pylab and numpy\n",
      "  \"\\n`%matplotlib` prevents importing * from pylab and numpy\"\n"
     ]
    }
   ],
   "source": [
    "import pandas as pd\n",
    "import numpy as np\n",
    "import os\n",
    "import sys\n",
    "\n",
    "import matplotlib as plt\n",
    "\n",
    "%pylab inline"
   ]
  },
  {
   "cell_type": "markdown",
   "metadata": {},
   "source": [
    "### For reproducibility, please make sure PUIDATA environmental variable is properly set up"
   ]
  },
  {
   "cell_type": "code",
   "execution_count": 2,
   "metadata": {},
   "outputs": [
    {
     "name": "stdout",
     "output_type": "stream",
     "text": [
      "/home/cusp/uc288/PUIdata\n"
     ]
    }
   ],
   "source": [
    "PUIdata = os.getenv('PUIDATA')\n",
    "print(PUIdata)"
   ]
  },
  {
   "cell_type": "code",
   "execution_count": 3,
   "metadata": {},
   "outputs": [
    {
     "name": "stdout",
     "output_type": "stream",
     "text": [
      "OK, directory in place\n"
     ]
    }
   ],
   "source": [
    "path = PUIdata + '/ADSProject'\n",
    "\n",
    "if (not os.path.isdir(path)):\n",
    "    if (os.system('mkdir ' + path) == 0):\n",
    "        print(\"OK, directory in place\")\n",
    "else:\n",
    "    print(\"OK, directory in place\")"
   ]
  },
  {
   "cell_type": "markdown",
   "metadata": {},
   "source": [
    "### Downloading Annualized Rollings Sales for 2015 and 2016\n",
    "Access all other files here: http://www1.nyc.gov/site/finance/taxes/property-annualized-sales-update.page\n",
    "\n",
    "http://www1.nyc.gov/assets/finance/downloads/pdf/rolling_sales/annualized-sales/2015/2015_manhattan.xls"
   ]
  },
  {
   "cell_type": "code",
   "execution_count": 4,
   "metadata": {},
   "outputs": [],
   "source": [
    "boroughs = ['manhattan', 'bronx', 'brooklyn', 'queens', 'statenisland']"
   ]
  },
  {
   "cell_type": "code",
   "execution_count": 5,
   "metadata": {},
   "outputs": [],
   "source": [
    "nyc2015 = pd.DataFrame()"
   ]
  },
  {
   "cell_type": "code",
   "execution_count": 6,
   "metadata": {},
   "outputs": [],
   "source": [
    "nyc2016 = pd.DataFrame()"
   ]
  },
  {
   "cell_type": "code",
   "execution_count": 7,
   "metadata": {},
   "outputs": [
    {
     "name": "stdout",
     "output_type": "stream",
     "text": [
      "File 2015_manhattan.xls in place, read file\n",
      "File 2015_bronx.xls in place, read file\n",
      "File 2015_brooklyn.xls in place, read file\n",
      "File 2015_queens.xls in place, read file\n",
      "File 2015_statenisland.xls in place, read file\n",
      "(91446, 21)\n"
     ]
    }
   ],
   "source": [
    "for boro in boroughs:\n",
    "    filename = '2015_' + boro + '.xls'\n",
    "    if not os.path.isfile(path + '/' + filename):\n",
    "        print(\"File not found for \" + filename)\n",
    "        print(\"Download file for reading...\")\n",
    "        os.system('curl -O http://www1.nyc.gov/assets/finance/downloads/pdf/rolling_sales/annualized-sales/2015/' + filename)\n",
    "        os.system('mv ' + filename + ' ' + path)\n",
    "    \n",
    "    if os.path.isfile(path + '/' + filename):\n",
    "        print(\"File \" + filename + \" in place, read file\")\n",
    "        nyc2015 = nyc2015.append(pd.read_excel(path + '/' + filename, skiprows=4))\n",
    "        \n",
    "print(nyc2015.shape)"
   ]
  },
  {
   "cell_type": "code",
   "execution_count": 8,
   "metadata": {},
   "outputs": [
    {
     "name": "stdout",
     "output_type": "stream",
     "text": [
      "File 2016_manhattan.xls in place, read file\n",
      "File 2016_bronx.xls in place, read file\n",
      "File 2016_brooklyn.xls in place, read file\n",
      "File 2016_queens.xls in place, read file\n",
      "File 2016_statenisland.xls in place, read file\n",
      "(89806, 21)\n"
     ]
    }
   ],
   "source": [
    "for boro in boroughs:\n",
    "    filename = '2016_' + boro + '.xls'\n",
    "    if not os.path.isfile(path + '/' + filename):\n",
    "        print(\"File not found for \" + filename)\n",
    "        print(\"Download file for reading...\")\n",
    "        os.system('curl -O http://www1.nyc.gov/assets/finance/downloads/pdf/rolling_sales/annualized-sales/2016/' + filename)\n",
    "        os.system('mv ' + filename + ' ' + path)\n",
    "    \n",
    "    if os.path.isfile(path + '/' + filename):\n",
    "        print(\"File \" + filename + \" in place, read file\")\n",
    "        nyc2016 = nyc2016.append(pd.read_excel(path + '/' + filename, skiprows=4))\n",
    "        \n",
    "print(nyc2016.shape)"
   ]
  },
  {
   "cell_type": "code",
   "execution_count": 9,
   "metadata": {},
   "outputs": [],
   "source": [
    "def fixColumns(df):\n",
    "    cols = df.columns.str.replace('\\n', '').str.replace(' ', '_')\n",
    "    df.columns = cols"
   ]
  },
  {
   "cell_type": "code",
   "execution_count": 10,
   "metadata": {},
   "outputs": [],
   "source": [
    "def showDesc(df):\n",
    "    print('Number of sales with $0 price: {}'.format(df[df['SALE_PRICE'] == 0]['LOT'].count()))\n",
    "    print('Number of sales with negative price: {}'.format(df[df['SALE_PRICE'] < 0]['LOT'].count()))\n",
    "    print('Number of sales with 0 year built: {}'.format(df[df['YEAR_BUILT'] == 0]['LOT'].count()))"
   ]
  },
  {
   "cell_type": "code",
   "execution_count": 11,
   "metadata": {},
   "outputs": [],
   "source": [
    "def dropZero(df):\n",
    "    return df[df['SALE_PRICE'] > 0]"
   ]
  },
  {
   "cell_type": "code",
   "execution_count": 12,
   "metadata": {},
   "outputs": [],
   "source": [
    "fixColumns(nyc2015)\n",
    "fixColumns(nyc2016)"
   ]
  },
  {
   "cell_type": "code",
   "execution_count": 13,
   "metadata": {},
   "outputs": [
    {
     "name": "stdout",
     "output_type": "stream",
     "text": [
      "(91446, 21)\n",
      "(64392, 21)\n"
     ]
    }
   ],
   "source": [
    "print(nyc2015.shape)\n",
    "nyc2015 = dropZero(nyc2015)\n",
    "print(nyc2015.shape)"
   ]
  },
  {
   "cell_type": "code",
   "execution_count": 14,
   "metadata": {},
   "outputs": [
    {
     "name": "stdout",
     "output_type": "stream",
     "text": [
      "(89806, 21)\n",
      "(62195, 21)\n"
     ]
    }
   ],
   "source": [
    "print(nyc2016.shape)\n",
    "nyc2016 = dropZero(nyc2016)\n",
    "print(nyc2016.shape)"
   ]
  },
  {
   "cell_type": "code",
   "execution_count": 15,
   "metadata": {},
   "outputs": [],
   "source": [
    "tax_class = ['1', '1A', '1C', '2', '2A', '2B', '2C']"
   ]
  },
  {
   "cell_type": "code",
   "execution_count": 16,
   "metadata": {},
   "outputs": [],
   "source": [
    "def convertToStr(series):\n",
    "    return series.astype(str)"
   ]
  },
  {
   "cell_type": "code",
   "execution_count": 17,
   "metadata": {},
   "outputs": [],
   "source": [
    "def getResidential(df):\n",
    "    return df[df['TAX_CLASS_AT_PRESENT'].isin(tax_class)]"
   ]
  },
  {
   "cell_type": "code",
   "execution_count": 18,
   "metadata": {},
   "outputs": [],
   "source": [
    "nyc2015['TAX_CLASS_AT_PRESENT'] = convertToStr(nyc2015['TAX_CLASS_AT_PRESENT'])\n",
    "nyc2016['TAX_CLASS_AT_PRESENT'] = convertToStr(nyc2016['TAX_CLASS_AT_PRESENT'])"
   ]
  },
  {
   "cell_type": "code",
   "execution_count": 19,
   "metadata": {
    "scrolled": true
   },
   "outputs": [
    {
     "name": "stdout",
     "output_type": "stream",
     "text": [
      "(64392, 21)\n",
      "(57607, 21)\n"
     ]
    }
   ],
   "source": [
    "print(nyc2015.shape)\n",
    "nyc2015 = getResidential(nyc2015)\n",
    "print(nyc2015.shape)"
   ]
  },
  {
   "cell_type": "code",
   "execution_count": 20,
   "metadata": {},
   "outputs": [
    {
     "name": "stdout",
     "output_type": "stream",
     "text": [
      "(62195, 21)\n",
      "(56003, 21)\n"
     ]
    }
   ],
   "source": [
    "print(nyc2016.shape)\n",
    "nyc2016 = getResidential(nyc2016)\n",
    "print(nyc2016.shape)"
   ]
  },
  {
   "cell_type": "markdown",
   "metadata": {},
   "source": [
    "This field consists of the borough code followed by the tax block followed by\n",
    "the tax lot. The borough code is one numeric digit. The tax block is one to\n",
    "five numeric digits, preceded with leading zeros when the block is less than\n",
    "five digits. The tax lot is one to four digits and is preceded with leading zeros\n",
    "when the lot is less than four digits."
   ]
  },
  {
   "cell_type": "code",
   "execution_count": 21,
   "metadata": {},
   "outputs": [],
   "source": [
    "def createBBL(df):\n",
    "    df['BBL'] = df['BOROUGH'].astype(str).str.cat(df['BLOCK'].astype(str).str.pad(5, fillchar='0')).str.cat(df['LOT'].astype(str).str.pad(4, fillchar='0'))\n",
    "    return df"
   ]
  },
  {
   "cell_type": "code",
   "execution_count": 22,
   "metadata": {},
   "outputs": [
    {
     "data": {
      "text/plain": [
       "Index(['BOROUGH', 'NEIGHBORHOOD', 'BUILDING_CLASS_CATEGORY',\n",
       "       'TAX_CLASS_AT_PRESENT', 'BLOCK', 'LOT', 'EASE-MENT',\n",
       "       'BUILDING_CLASS_AT_PRESENT', 'ADDRESS', 'APARTMENT_NUMBER', 'ZIP_CODE',\n",
       "       'RESIDENTIAL_UNITS', 'COMMERCIAL_UNITS', 'TOTAL_UNITS',\n",
       "       'LAND_SQUARE_FEET', 'GROSS_SQUARE_FEET', 'YEAR_BUILT',\n",
       "       'TAX_CLASS_AT_TIME_OF_SALE', 'BUILDING_CLASS_AT_TIME_OF_SALE',\n",
       "       'SALE_PRICE', 'SALE_DATE', 'BBL'],\n",
       "      dtype='object')"
      ]
     },
     "execution_count": 22,
     "metadata": {},
     "output_type": "execute_result"
    }
   ],
   "source": [
    "nyc2015 = createBBL(nyc2015)\n",
    "nyc2015.columns"
   ]
  },
  {
   "cell_type": "code",
   "execution_count": 23,
   "metadata": {},
   "outputs": [
    {
     "data": {
      "text/plain": [
       "Index(['BOROUGH', 'NEIGHBORHOOD', 'BUILDING_CLASS_CATEGORY',\n",
       "       'TAX_CLASS_AT_PRESENT', 'BLOCK', 'LOT', 'EASE-MENT',\n",
       "       'BUILDING_CLASS_AT_PRESENT', 'ADDRESS', 'APARTMENT_NUMBER', 'ZIP_CODE',\n",
       "       'RESIDENTIAL_UNITS', 'COMMERCIAL_UNITS', 'TOTAL_UNITS',\n",
       "       'LAND_SQUARE_FEET', 'GROSS_SQUARE_FEET', 'YEAR_BUILT',\n",
       "       'TAX_CLASS_AT_TIME_OF_SALE', 'BUILDING_CLASS_AT_TIME_OF_SALE',\n",
       "       'SALE_PRICE', 'SALE_DATE', 'BBL'],\n",
       "      dtype='object')"
      ]
     },
     "execution_count": 23,
     "metadata": {},
     "output_type": "execute_result"
    }
   ],
   "source": [
    "nyc2016 = createBBL(nyc2016)\n",
    "nyc2016.columns"
   ]
  },
  {
   "cell_type": "code",
   "execution_count": 24,
   "metadata": {},
   "outputs": [
    {
     "data": {
      "text/html": [
       "<div>\n",
       "<table border=\"1\" class=\"dataframe\">\n",
       "  <thead>\n",
       "    <tr style=\"text-align: right;\">\n",
       "      <th></th>\n",
       "      <th>BBL</th>\n",
       "      <th>ZIP_CODE</th>\n",
       "      <th>NEIGHBORHOOD</th>\n",
       "      <th>SALE_PRICE</th>\n",
       "      <th>YEAR</th>\n",
       "    </tr>\n",
       "  </thead>\n",
       "  <tbody>\n",
       "    <tr>\n",
       "      <th>0</th>\n",
       "      <td>1000151108</td>\n",
       "      <td>10004</td>\n",
       "      <td>FINANCIAL</td>\n",
       "      <td>1150000.0</td>\n",
       "      <td>2015</td>\n",
       "    </tr>\n",
       "    <tr>\n",
       "      <th>1</th>\n",
       "      <td>1000151136</td>\n",
       "      <td>10004</td>\n",
       "      <td>FINANCIAL</td>\n",
       "      <td>575000.0</td>\n",
       "      <td>2015</td>\n",
       "    </tr>\n",
       "    <tr>\n",
       "      <th>2</th>\n",
       "      <td>1000151160</td>\n",
       "      <td>10004</td>\n",
       "      <td>FINANCIAL</td>\n",
       "      <td>565000.0</td>\n",
       "      <td>2015</td>\n",
       "    </tr>\n",
       "    <tr>\n",
       "      <th>3</th>\n",
       "      <td>1000151170</td>\n",
       "      <td>10004</td>\n",
       "      <td>FINANCIAL</td>\n",
       "      <td>675000.0</td>\n",
       "      <td>2015</td>\n",
       "    </tr>\n",
       "    <tr>\n",
       "      <th>4</th>\n",
       "      <td>1000151177</td>\n",
       "      <td>10004</td>\n",
       "      <td>FINANCIAL</td>\n",
       "      <td>785000.0</td>\n",
       "      <td>2015</td>\n",
       "    </tr>\n",
       "  </tbody>\n",
       "</table>\n",
       "</div>"
      ],
      "text/plain": [
       "          BBL  ZIP_CODE               NEIGHBORHOOD  SALE_PRICE  YEAR\n",
       "0  1000151108     10004  FINANCIAL                   1150000.0  2015\n",
       "1  1000151136     10004  FINANCIAL                    575000.0  2015\n",
       "2  1000151160     10004  FINANCIAL                    565000.0  2015\n",
       "3  1000151170     10004  FINANCIAL                    675000.0  2015\n",
       "4  1000151177     10004  FINANCIAL                    785000.0  2015"
      ]
     },
     "execution_count": 24,
     "metadata": {},
     "output_type": "execute_result"
    }
   ],
   "source": [
    "nycsales2015 = nyc2015.groupby(['BBL', 'ZIP_CODE', 'NEIGHBORHOOD'])['SALE_PRICE'].median().reset_index()\n",
    "nycsales2015['YEAR'] = 2015\n",
    "nycsales2015.head()"
   ]
  },
  {
   "cell_type": "code",
   "execution_count": 25,
   "metadata": {},
   "outputs": [
    {
     "data": {
      "text/html": [
       "<div>\n",
       "<table border=\"1\" class=\"dataframe\">\n",
       "  <thead>\n",
       "    <tr style=\"text-align: right;\">\n",
       "      <th></th>\n",
       "      <th>BBL</th>\n",
       "      <th>ZIP_CODE</th>\n",
       "      <th>NEIGHBORHOOD</th>\n",
       "      <th>SALE_PRICE</th>\n",
       "      <th>YEAR</th>\n",
       "    </tr>\n",
       "  </thead>\n",
       "  <tbody>\n",
       "    <tr>\n",
       "      <th>0</th>\n",
       "      <td>1000070038</td>\n",
       "      <td>10004</td>\n",
       "      <td>FINANCIAL</td>\n",
       "      <td>4027000.0</td>\n",
       "      <td>2016</td>\n",
       "    </tr>\n",
       "    <tr>\n",
       "      <th>1</th>\n",
       "      <td>1000110014</td>\n",
       "      <td>10004</td>\n",
       "      <td>FINANCIAL</td>\n",
       "      <td>470000.0</td>\n",
       "      <td>2016</td>\n",
       "    </tr>\n",
       "    <tr>\n",
       "      <th>2</th>\n",
       "      <td>1000151127</td>\n",
       "      <td>10004</td>\n",
       "      <td>FINANCIAL</td>\n",
       "      <td>600000.0</td>\n",
       "      <td>2016</td>\n",
       "    </tr>\n",
       "    <tr>\n",
       "      <th>3</th>\n",
       "      <td>1000151131</td>\n",
       "      <td>10004</td>\n",
       "      <td>FINANCIAL</td>\n",
       "      <td>45000.0</td>\n",
       "      <td>2016</td>\n",
       "    </tr>\n",
       "    <tr>\n",
       "      <th>4</th>\n",
       "      <td>1000151147</td>\n",
       "      <td>10004</td>\n",
       "      <td>FINANCIAL</td>\n",
       "      <td>595000.0</td>\n",
       "      <td>2016</td>\n",
       "    </tr>\n",
       "  </tbody>\n",
       "</table>\n",
       "</div>"
      ],
      "text/plain": [
       "          BBL  ZIP_CODE               NEIGHBORHOOD  SALE_PRICE  YEAR\n",
       "0  1000070038     10004  FINANCIAL                   4027000.0  2016\n",
       "1  1000110014     10004  FINANCIAL                    470000.0  2016\n",
       "2  1000151127     10004  FINANCIAL                    600000.0  2016\n",
       "3  1000151131     10004  FINANCIAL                     45000.0  2016\n",
       "4  1000151147     10004  FINANCIAL                    595000.0  2016"
      ]
     },
     "execution_count": 25,
     "metadata": {},
     "output_type": "execute_result"
    }
   ],
   "source": [
    "nycsales2016 = nyc2016.groupby(['BBL', 'ZIP_CODE', 'NEIGHBORHOOD'])['SALE_PRICE'].median().reset_index()\n",
    "nycsales2016['YEAR'] = 2016\n",
    "nycsales2016.head()"
   ]
  }
 ],
 "metadata": {
  "kernelspec": {
   "display_name": "PUI2016_Python3",
   "language": "python",
   "name": "pui2016_python3"
  },
  "language_info": {
   "codemirror_mode": {
    "name": "ipython",
    "version": 3
   },
   "file_extension": ".py",
   "mimetype": "text/x-python",
   "name": "python",
   "nbconvert_exporter": "python",
   "pygments_lexer": "ipython3",
   "version": "3.5.4"
  }
 },
 "nbformat": 4,
 "nbformat_minor": 2
}
